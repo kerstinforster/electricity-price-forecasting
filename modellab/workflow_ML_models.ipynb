{
 "cells": [
  {
   "cell_type": "markdown",
   "id": "1cd562df",
   "metadata": {},
   "source": [
    "# Automated Workflow for ML Models"
   ]
  },
  {
   "cell_type": "markdown",
   "id": "998213b7",
   "metadata": {},
   "source": [
    "First approach for an automated workflow consisting in data splitting, preprocessing, training, hyperparameter tuning and testing <b> specifically for ML models generated with keras </b>. Since no automated pipelines exist (or at least I could not find one) for using keras ML models for time-series forecasting that can be specified according to our requirements, most of the functions used are customized. <br>\n",
    "\n",
    "<b>Already implemented:</b>\n",
    "* Data splitting (Train-Val / Test) according to specified split date\n",
    "* Conversion to supervised learning problem for ML models\n",
    "* Rolling Window Forward Validation splitting (\"Schnaubelt, Matthias. A comparison of machine learning model validation schemes for non-stationary time series data\")\n",
    "* Grid search for hyperparameter tuning and selection of best model according to minimum RMSE\n",
    "* Retraining of final model on entire dataset and evaluating accuracy using RMSE, MSE, MAPE\n",
    "* First test for 1-hour ahead forecasts and 3 tuneable hyperparameters to check basic functionality and plausibility of results\n",
    "\n",
    "<b>To do:</b>\n",
    "* Integrate with \"live\" data\n",
    "* Include additional data sources\n",
    "* Generate plots for hyperparameter optimization and final testing\n",
    "* Include additional performance metrics: sMAPE to resolve issues with MAPE, perhaps some scaled metrics\n",
    "* Include additional evaluation methods: Diebold-Mariano tests and/or residual diagnostics, efficiency (total number of FLOPs)\n",
    "* Consider execution time of hyperparameter optimization (perhaps decrease number of folds)\n",
    "* Test with all tunable hyperparameters\n",
    "* Tests for 1-day and 1-week ahead forecasts\n",
    "* Test/integrate with other ML models (RNN, LSTM, GRU, SVR, hybrid models, ...)\n",
    "\n",
    "<b>Requirements:</b>\n",
    "pandas,\n",
    "numpy,\n",
    "matplotlib,\n",
    "sklearn,\n",
    "math,\n",
    "keras"
   ]
  },
  {
   "cell_type": "code",
   "execution_count": null,
   "id": "225b1c9f",
   "metadata": {},
   "outputs": [],
   "source": [
    "import pandas as pd\n",
    "import numpy as np\n",
    "import matplotlib\n",
    "import matplotlib.pyplot as plt\n",
    "import seaborn as sns\n",
    "from sklearn.model_selection import TimeSeriesSplit\n",
    "from sklearn.metrics import mean_squared_error, mean_absolute_error\n",
    "from sklearn.preprocessing import MaxAbsScaler\n",
    "\n",
    "from math import sqrt\n",
    "\n",
    "sns.set_style('whitegrid')"
   ]
  },
  {
   "cell_type": "markdown",
   "id": "7bb68e38",
   "metadata": {},
   "source": [
    "## Read Data"
   ]
  },
  {
   "cell_type": "code",
   "execution_count": null,
   "id": "98ee40e5",
   "metadata": {},
   "outputs": [],
   "source": [
    "# Read data from csv (for development purposes, TO DO: integrate with montel data + external data)\n",
    "data = pd.read_csv('data.csv')\n",
    "X = data.Time\n",
    "Y = data.Value\n",
    "\n",
    "# Get information on min/max dates and number of datapoints \n",
    "datapoints = X.index.max()+1\n",
    "date_min = X.min()\n",
    "date_max = X.max()\n",
    "\n",
    "print('Number of datapoints in the Dataset: {}'.format(datapoints))\n",
    "print('Minimum date from data set: {}'.format(date_min))\n",
    "print('Maximum date from data set: {}'.format(date_max))"
   ]
  },
  {
   "cell_type": "code",
   "execution_count": null,
   "id": "422ceda3",
   "metadata": {},
   "outputs": [],
   "source": [
    "data.head()"
   ]
  },
  {
   "cell_type": "code",
   "execution_count": null,
   "id": "1335e804",
   "metadata": {},
   "outputs": [],
   "source": [
    "data.describe()"
   ]
  },
  {
   "cell_type": "markdown",
   "id": "1466214f",
   "metadata": {},
   "source": [
    "## Generate Hourly, Daily, Weekly Data for Prediction"
   ]
  },
  {
   "cell_type": "code",
   "execution_count": null,
   "id": "f787779d",
   "metadata": {},
   "outputs": [],
   "source": [
    "# Generate dataframe with datetime index\n",
    "data_hourly = data.set_index('Time')\n",
    "data_hourly.index = pd.date_range(date_min,date_max,freq='H')\n",
    "\n",
    "# Resample dataframes for testing of different temporal resolutions\n",
    "data_daily = data_hourly.resample('1D').mean()\n",
    "data_weekly = data_hourly.resample('1W').mean()\n",
    "data_monthly = data_hourly.resample('1M').mean()"
   ]
  },
  {
   "cell_type": "markdown",
   "id": "8f467cd9",
   "metadata": {},
   "source": [
    "## Plot Data"
   ]
  },
  {
   "cell_type": "code",
   "execution_count": null,
   "id": "1aff77bf",
   "metadata": {},
   "outputs": [],
   "source": [
    "ax = data_daily.plot(linewidth=0.1, figsize=(20,5))\n",
    "ax.set_xlabel('Year')\n",
    "ax.set_ylabel('Electricity Price [€/MWh]')\n",
    "ax.set_title('EEX Day-Ahead Market')"
   ]
  },
  {
   "cell_type": "markdown",
   "id": "e963ccb4",
   "metadata": {},
   "source": [
    "## Preprocessing and Data Splitting"
   ]
  },
  {
   "cell_type": "code",
   "execution_count": null,
   "id": "4e0bb5bd",
   "metadata": {},
   "outputs": [],
   "source": [
    "def train_val_test_split(df_datetime, split_date):\n",
    "    '''\n",
    "    Splits dataframe into a training/validation set and a test set according to a specified split date.\n",
    "    df_datetime: pandas.core.frame.DataFrame\n",
    "    split_date: str in the format 'YYYY-MM-DD hh:mm:ss'\n",
    "    \n",
    "    '''\n",
    "    df_train_val = df_datetime.loc[df_datetime.index < split_date]\n",
    "    df_test = df_datetime.loc[df_datetime.index >= split_date]\n",
    "    return df_train_val, df_test"
   ]
  },
  {
   "cell_type": "code",
   "execution_count": null,
   "id": "9947f4f5",
   "metadata": {},
   "outputs": [],
   "source": [
    "SPLIT_DATE = '2019-06-01 00:00:00'\n",
    "\n",
    "df_train_val, df_test = train_val_test_split(data_hourly, SPLIT_DATE)"
   ]
  },
  {
   "cell_type": "code",
   "execution_count": null,
   "id": "bd5ecf41",
   "metadata": {},
   "outputs": [],
   "source": [
    "df_train_val.tail()"
   ]
  },
  {
   "cell_type": "code",
   "execution_count": null,
   "id": "12df7985",
   "metadata": {},
   "outputs": [],
   "source": [
    "df_test.head()"
   ]
  },
  {
   "cell_type": "markdown",
   "id": "6397d950",
   "metadata": {},
   "source": [
    "## Rolling Window Forward Validation Split for Hyperparameter Optimization"
   ]
  },
  {
   "attachments": {
    "rolling_window_forward_validation.PNG": {
     "image/png": "[encoded data removed]"
    }
   },
   "cell_type": "markdown",
   "id": "ecfb68a2",
   "metadata": {},
   "source": [
    "![rolling_window_forward_validation.PNG](attachment:rolling_window_forward_validation.PNG)"
   ]
  },
  {
   "cell_type": "code",
   "execution_count": null,
   "id": "26d498f4",
   "metadata": {},
   "outputs": [],
   "source": [
    "def convert2matrix(data_arr, look_back, gap):\n",
    "    '''\n",
    "    Converts value array into features (X) and response (Y) to create a supervised learning problem needed for ML mdoels.\n",
    "    data_arr: numpy.ndarray, shape: (#timesteps,) \n",
    "    look_back: int, determines how many timesteps are used for making a prediction (#features per sample)\n",
    "    gap: int, determines how far into the future predictions are made (one hour: gap=0, 1 day: gap=23, 1 week: gap=167)\n",
    "    '''\n",
    "    X, Y =[], []\n",
    "    for i in range(len(data_arr)-look_back):\n",
    "        d=i+look_back  \n",
    "        X.append(data_arr[i:d])\n",
    "        Y.append(data_arr[d+gap])\n",
    "    return np.array(X), np.array(Y)"
   ]
  },
  {
   "cell_type": "code",
   "execution_count": null,
   "id": "5cea056f",
   "metadata": {},
   "outputs": [],
   "source": [
    "def create_folds(num_folds, quot_train, X_train_val, Y_train_val):\n",
    "    '''\n",
    "    Creates folds for rolling window forward validation according to \"Schnaubelt, Matthias. A comparison of machine learning model validation schemes for non-stationary time series data\".\n",
    "    num_folds: int, specifies number of folds used for validation\n",
    "    quot_train: float, specifies the percentage of training data in each fold\n",
    "    X_train_val: numpy.ndarray, shape: (#timesteps, look_back)\n",
    "    Y_train_val: numpy.ndarray, shape: (#timesteps,)\n",
    "    '''\n",
    "    ratio = int(quot_train/(1-quot_train))\n",
    "\n",
    "    len_val = int(np.shape(X_train_val)[0]/(num_folds+ratio))\n",
    "    len_train = int(np.shape(X_train_val)[0]-num_folds*len_val)\n",
    "    len_fold = len_train + len_val\n",
    "\n",
    "    X_train = []\n",
    "    Y_train = []\n",
    "    X_val = []\n",
    "    Y_val = []\n",
    "\n",
    "    for i in range(num_folds):\n",
    "        X_train.append(X_train_val[i*len_val:i*len_val+len_train]) \n",
    "        Y_train.append(Y_train_val[i*len_val:i*len_val+len_train])\n",
    "        X_val.append(X_train_val[i*len_val+len_train:i*len_val+len_fold])\n",
    "        Y_val.append(Y_train_val[i*len_val+len_train:i*len_val+len_fold])\n",
    "        \n",
    "    return X_train, Y_train, X_val, Y_val"
   ]
  },
  {
   "cell_type": "code",
   "execution_count": null,
   "id": "30c64811",
   "metadata": {},
   "outputs": [],
   "source": [
    "# Convert data to numpy arrays for keras DNN\n",
    "data_train_val = df_train_val.to_numpy()[:,0]\n",
    "data_test = df_test.to_numpy()[:,0]\n",
    "\n",
    "# Setup look_back window and gap in forecast horzion\n",
    "look_back = 30\n",
    "gap = 0 # one-hour ahead forecast: gap = 0, 1 day ahead forecast: gap = 23, 1 week ahead forecast: gap = 167\n",
    "\n",
    "# Transform to supervised learning problem for compatibility with keras ML models\n",
    "X_train_val, Y_train_val = convert2matrix(data_train_val, look_back, gap)\n",
    "X_test, Y_test = convert2matrix(data_test, look_back, gap)\n",
    "\n",
    "# Create multiple folds of train and validation data splits for rolling window forward validation (see paper 5)\n",
    "num_folds = 5\n",
    "quot_train = 0.8\n",
    "\n",
    "X_train, Y_train, X_val, Y_val = create_folds(num_folds, quot_train, X_train_val, Y_train_val)"
   ]
  },
  {
   "cell_type": "markdown",
   "id": "eb32955e",
   "metadata": {},
   "source": [
    "## Hyperparameter Optimization"
   ]
  },
  {
   "cell_type": "code",
   "execution_count": null,
   "id": "ee84d2f0",
   "metadata": {},
   "outputs": [],
   "source": [
    "from keras.models import Sequential\n",
    "from keras.layers import Dense, Dropout\n",
    "from keras.callbacks import EarlyStopping\n",
    "from sklearn.model_selection import ParameterGrid\n",
    "from keras.activations import relu, elu\n",
    "from keras.metrics import RootMeanSquaredError, MeanAbsoluteError, MeanAbsolutePercentageError\n",
    "#from keras_flops import get_flops\n",
    "\n",
    "# Initialize early stopping to combat overfitting\n",
    "early_stopping = EarlyStopping(monitor='loss', patience=10)"
   ]
  },
  {
   "cell_type": "code",
   "execution_count": null,
   "id": "d1160aad",
   "metadata": {},
   "outputs": [],
   "source": [
    "def smape(y_true, y_pred):\n",
    "    '''\n",
    "    Calculates customized metric sMAPE as improvement of the classic MAPE.\n",
    "    TO DO: integrate in keras model API\n",
    "    '''\n",
    "    return np.mean(200*abs(y_true-y_pred)/(y_true+y_pred))"
   ]
  },
  {
   "cell_type": "code",
   "execution_count": null,
   "id": "c84eda19",
   "metadata": {},
   "outputs": [],
   "source": [
    "def model_dnn(params, metrics, look_back):\n",
    "    '''\n",
    "    Initializes a keras DNN with two hidden layers.\n",
    "    params: <class 'dict'>, combination of hyperparameters from specified parameter grid\n",
    "    metrics: list, implemented so far are RMSE, MAE, MAPE\n",
    "    look_back: int, necessary for dimension of input neuron\n",
    "    '''\n",
    "    model = Sequential()\n",
    "    model.add(Dense(params['first_neuron'], input_dim=look_back,\n",
    "                    activation=params['activation']))\n",
    "    model.add(Dense(params['second_neuron'],\n",
    "                    activation=params['activation']))\n",
    "    model.add(Dropout(params['dropout']))\n",
    "\n",
    "    model.add(Dense(1))\n",
    "    \n",
    "    model.compile(loss='mse', metrics=metrics)\n",
    "    return model"
   ]
  },
  {
   "cell_type": "code",
   "execution_count": null,
   "id": "37e621f2",
   "metadata": {},
   "outputs": [],
   "source": [
    "def rolling_window_forward_validation_score(model, params, X_train, Y_train, X_val, Y_val):\n",
    "    '''\n",
    "    Calculates the metrics specified in the model initialization (currently RMSE, MAE, MAPE) for each fold.\n",
    "    Returns the means of the specified metrics over all folds. \n",
    "    \n",
    "    model: keras.engine.sequential.Sequential\n",
    "    params: <class 'dict'>, combination of hyperparameters from specified parameter grid\n",
    "    X_train: list, shape: (num_folds, len_train, look_back)\n",
    "    Y_train: list, shape: (num_folds, len_train)\n",
    "    X_val: list, shape: (num_folds, len_val, look_back)\n",
    "    Y_val: list, shape: (num_folds, len_val)\n",
    "    '''\n",
    "    max_abs_scaler = MaxAbsScaler()\n",
    "    cv_scores = []\n",
    "    for i in range(num_folds):\n",
    "        X_train_prepro = max_abs_scaler.fit_transform(X_train[i])\n",
    "        X_val_prepro = max_abs_scaler.transform(X_val[i])\n",
    "        history = model.fit(X_train_prepro, Y_train[i], epochs=params['epochs'], verbose=1, callbacks=[early_stopping], shuffle = False)\n",
    "        score = model.evaluate(X_val_prepro, Y_val[i], verbose=0)\n",
    "        #print(score)\n",
    "        cv_scores.append(score)\n",
    "        #print(cv_scores)\n",
    "    return np.mean(cv_scores,0)[1:]"
   ]
  },
  {
   "cell_type": "code",
   "execution_count": null,
   "id": "d5e2aeac",
   "metadata": {},
   "outputs": [],
   "source": [
    "def get_min_rmse_results(rwfv_scores, param_configs):\n",
    "    '''\n",
    "    Determines the configuration yielding the minimum RMSE. \n",
    "    Returns index of minimum RMSE, value of minimum RMSE and the corresponding parameter configuration.\n",
    "    \n",
    "    rwfv_scores: list\n",
    "    param_configs: list\n",
    "    '''\n",
    "    val_min = float(\"inf\")\n",
    "    \n",
    "    for i in range(len(rwfv_scores)):\n",
    "        if rwfv_scores[i][1] < val_min:\n",
    "            ind_min_rmse = i\n",
    "            val_min = rwfv_scores[i][1]\n",
    "            \n",
    "    best_config = param_configs[ind_min_rmse]\n",
    "    return ind_min_rmse, val_min, best_config"
   ]
  },
  {
   "cell_type": "code",
   "execution_count": null,
   "id": "74336b31",
   "metadata": {},
   "outputs": [],
   "source": [
    "def grid_search_rwfv(grid, metrics, look_back, X_train, Y_train, X_val, Y_val):\n",
    "    '''\n",
    "    Performs a grid search over all possible parameter configurations. \n",
    "    Evaluates each configuration using rolling window forward validation. \n",
    "    Returns the optimum parameter configuration, the index yielding minimum RMSE and the minimum RMSE value itself. \n",
    "    \n",
    "    grid: list, contains all tunable hyperparameters and corresponding values\n",
    "    metrics: list, implemented so far are RMSE, MAE, MAPE\n",
    "    X_train: list, shape: (num_folds, len_train, look_back)\n",
    "    Y_train: list, shape: (num_folds, len_train)\n",
    "    X_val: list, shape: (num_folds, len_val, look_back)\n",
    "    Y_val: list, shape: (num_folds, len_val)\n",
    "    '''\n",
    "    rwfv_scores = []\n",
    "    param_configs = []\n",
    "\n",
    "    # iterate over parameters from grid and calculate RMSE/MAE/MAPE\n",
    "    for params in grid:\n",
    "        # Fit Model\n",
    "        model = model_dnn(params, metrics, look_back)\n",
    "        # Estimate error with rolling window forward validation\n",
    "        rwfv_score = rolling_window_forward_validation_score(model, params, X_train, Y_train, X_val, Y_val)\n",
    "        rwfv_scores.append(rwfv_score)\n",
    "        param_configs.append(params)\n",
    "        #print(rwfv_scores)\n",
    "        #print(param_configs)\n",
    "\n",
    "    # select best hyperparameter config based on minimum rmse\n",
    "    ind_min_rmse, min_rmse, best_config = get_min_rmse_results(rwfv_scores, param_configs)\n",
    "\n",
    "    return best_config, ind_min_rmse, min_rmse"
   ]
  },
  {
   "cell_type": "code",
   "execution_count": null,
   "id": "04c0044f",
   "metadata": {},
   "outputs": [],
   "source": [
    "# Define parameters to be optimized in hyperparameter grid\n",
    "param_grid = [{#'lr': (0.5, 5, 10),\n",
    "     'first_neuron':[4, 8, 16, 32, 64, 128],\n",
    "     'second_neuron':[4, 8, 16, 32, 64, 128],\n",
    "     #'hidden_layers':[0, 1, 2],\n",
    "     #'batch_size': [2, 10, 30],\n",
    "     'epochs': [10, 25, 50, 100], \n",
    "     'dropout': [0, 0.1, 0.25, 0.5, 0.75, 1],\n",
    "     #'kernel_initializer': ['uniform','normal'],\n",
    "     #'optimizer': ['Nadam', 'Adam'],\n",
    "     #'losses': ['mean_squared_error', 'binary_crossentropy'],\n",
    "     'activation':['relu', 'elu', 'tanh', 'softmax']}]\n",
    "\n",
    "# Grid for testing the workflow with reduced number of options\n",
    "test_grid = [{'first_neuron':[4, 32],\n",
    "     'second_neuron':[4, 32],\n",
    "     'epochs': [10], \n",
    "     'dropout': [0, 0.5],\n",
    "     'activation':['relu', 'elu']}]\n",
    "\n",
    "#grid = list(ParameterGrid(param_grid))\n",
    "grid = list(ParameterGrid(test_grid))\n",
    "\n",
    "metrics = [RootMeanSquaredError(), MeanAbsoluteError(), MeanAbsolutePercentageError()]\n",
    "\n",
    "best_config, ind_min_rmse, min_rmse = grid_search_rwfv(grid, metrics, look_back, X_train, Y_train, X_val, Y_val)\n",
    "\n",
    "print(\"Minimum RMSE: \", \"%.2f\" % min_rmse)\n",
    "print(\"Parameter configuration yielding minimum RMSE: \", best_config)"
   ]
  },
  {
   "cell_type": "markdown",
   "id": "ec26513b",
   "metadata": {},
   "source": [
    "## Retrain Model on Entire Training/Validation Dataset and Evaluate on Test Set"
   ]
  },
  {
   "cell_type": "code",
   "execution_count": null,
   "id": "1d032170",
   "metadata": {},
   "outputs": [],
   "source": [
    "# Specify evaulation metrics\n",
    "metrics_test = [RootMeanSquaredError(), MeanAbsoluteError(), MeanAbsolutePercentageError()]\n",
    "\n",
    "# Initialize model with optimal config\n",
    "best_model = model_dnn(best_config, metrics_test, look_back)\n",
    "\n",
    "# Apply appropriate scaling\n",
    "max_abs_scaler = MaxAbsScaler()\n",
    "X_train_val_prepro = max_abs_scaler.fit_transform(X_train_val)\n",
    "X_test_prepro = max_abs_scaler.transform(X_test)\n",
    "\n",
    "# Fit model on entire training/validation dataset\n",
    "history = best_model.fit(X_train_val_prepro, Y_train_val, epochs=best_config['epochs'], verbose=1, callbacks=[early_stopping], shuffle = False)"
   ]
  },
  {
   "cell_type": "code",
   "execution_count": null,
   "id": "60cd895f",
   "metadata": {},
   "outputs": [],
   "source": [
    "# Evaluate final model on the held-out test set\n",
    "final_score = best_model.evaluate(X_test_prepro, Y_test, verbose=0)[1:]\n",
    "print(\"Final RMSE:\", \"%.2f\" % final_score[0])\n",
    "print(\"Final MAE:\", \"%.2f\" % final_score[1])\n",
    "print(\"Final MAPE:\", \"%.2f\" % final_score[2])"
   ]
  },
  {
   "cell_type": "markdown",
   "id": "22f4e73d",
   "metadata": {},
   "source": [
    "## TO DO: Diebold-Mariano-Tests"
   ]
  },
  {
   "cell_type": "markdown",
   "id": "ab3dec06",
   "metadata": {},
   "source": [
    "## TO DO: Residual Diagnostics"
   ]
  },
  {
   "cell_type": "markdown",
   "id": "07d59d1c",
   "metadata": {},
   "source": [
    "## TO DO: Efficiency (Total Number of FLOPs)\n",
    "Implement FLOP count, e.g. with keras-flops get_flops\n",
    "https://pypi.org/project/keras-flops/"
   ]
  },
  {
   "cell_type": "code",
   "execution_count": null,
   "id": "dc898fa6",
   "metadata": {},
   "outputs": [],
   "source": []
  }
 ],
 "metadata": {
  "kernelspec": {
   "display_name": "Python 3",
   "language": "python",
   "name": "python3"
  },
  "language_info": {
   "codemirror_mode": {
    "name": "ipython",
    "version": 3
   },
   "file_extension": ".py",
   "mimetype": "text/x-python",
   "name": "python",
   "nbconvert_exporter": "python",
   "pygments_lexer": "ipython3",
   "version": "3.8.8"
  }
 },
 "nbformat": 4,
 "nbformat_minor": 5
}
