{
 "cells": [
  {
   "cell_type": "code",
   "execution_count": 39,
   "id": "87ad2d10",
   "metadata": {},
   "outputs": [],
   "source": [
    "import pandas as pd\n",
    "import numpy as np\n",
    "import matplotlib\n",
    "import matplotlib.pyplot as plt\n",
    "import seaborn as sns\n",
    "from sklearn.model_selection import TimeSeriesSplit\n",
    "from sklearn.metrics import accuracy_score, mean_absolute_error\n",
    "from math import sqrt\n",
    "from statsmodels.tsa.stattools import adfuller\n",
    "\n",
    "import statsmodels.api as sm\n",
    "\n",
    "from fbprophet import Prophet\n",
    "from fbprophet.plot import plot_plotly, plot_components_plotly, add_changepoints_to_plot\n",
    "from fbprophet.diagnostics import cross_validation\n",
    "from fbprophet.diagnostics import performance_metrics\n",
    "from fbprophet.plot import plot_cross_validation_metric\n",
    "from fbprophet.plot import plot_cross_validation_metric\n",
    "from fbprophet.serialize import model_to_json, model_from_json\n",
    "\n",
    "from src.data.dataset_generator import DatasetGenerator\n",
    "from src.data.data_transformer import DataTransformer\n",
    "\n",
    "import utils\n",
    "import itertools\n",
    "import json"
   ]
  },
  {
   "cell_type": "code",
   "execution_count": 2,
   "id": "838ee9b4",
   "metadata": {},
   "outputs": [
    {
     "name": "stdout",
     "output_type": "stream",
     "text": [
      "Downloading montel data.\n",
      "Repaired missing montel data from dates: ['2021-03-28']\n",
      "Downloading entsoe data.\n",
      "Repaired missing entsoe data from dates: ['2021-08-10' '2021-08-11']\n",
      "Downloading weather data.\n",
      "Data coverage 100%\n"
     ]
    }
   ],
   "source": [
    "dg = DatasetGenerator(['all'])\n",
    "dataset_latest = dg.get_dataset('2016-01-01', 'latest', 'ignored')"
   ]
  },
  {
   "cell_type": "code",
   "execution_count": 3,
   "id": "0461baab",
   "metadata": {},
   "outputs": [
    {
     "name": "stdout",
     "output_type": "stream",
     "text": [
      "Number of datapoints in the Dataset: 49199\n",
      "Minimum date from data set: 2016-01-01 00:00:00\n",
      "Maximum date from data set: 2021-08-11 23:00:00\n"
     ]
    }
   ],
   "source": [
    "# Extract Length, and Timerange of the Downloaded Dataset\n",
    "X = dataset_latest.Time\n",
    "\n",
    "datapoints = X.index.max()\n",
    "date_min = X.min()\n",
    "date_max = X.max()\n",
    "\n",
    "print('Number of datapoints in the Dataset: {}'.format(datapoints))\n",
    "print('Minimum date from data set: {}'.format(date_min))\n",
    "print('Maximum date from data set: {}'.format(date_max))\n",
    "\n",
    "# Change Index from Dataframe (new index: Time)\n",
    "data_hourly = dataset_latest.set_index('Time')\n",
    "data_hourly.index = pd.date_range(date_min,date_max,freq='H')\n",
    "data_hourly=data_hourly.reset_index()"
   ]
  },
  {
   "cell_type": "code",
   "execution_count": 4,
   "id": "453d53d0",
   "metadata": {},
   "outputs": [
    {
     "data": {
      "text/html": [
       "<div>\n",
       "<style scoped>\n",
       "    .dataframe tbody tr th:only-of-type {\n",
       "        vertical-align: middle;\n",
       "    }\n",
       "\n",
       "    .dataframe tbody tr th {\n",
       "        vertical-align: top;\n",
       "    }\n",
       "\n",
       "    .dataframe thead th {\n",
       "        text-align: right;\n",
       "    }\n",
       "</style>\n",
       "<table border=\"1\" class=\"dataframe\">\n",
       "  <thead>\n",
       "    <tr style=\"text-align: right;\">\n",
       "      <th></th>\n",
       "      <th>index</th>\n",
       "      <th>SPOTPrice</th>\n",
       "      <th>Load</th>\n",
       "      <th>Solar</th>\n",
       "      <th>Wind Offshore</th>\n",
       "      <th>Wind Onshore</th>\n",
       "      <th>temp</th>\n",
       "      <th>dwpt</th>\n",
       "      <th>rhum</th>\n",
       "      <th>prcp</th>\n",
       "      <th>wspd</th>\n",
       "      <th>pres</th>\n",
       "      <th>tsun</th>\n",
       "    </tr>\n",
       "  </thead>\n",
       "  <tbody>\n",
       "    <tr>\n",
       "      <th>0</th>\n",
       "      <td>2016-01-01 00:00:00</td>\n",
       "      <td>23.86</td>\n",
       "      <td>50211.00</td>\n",
       "      <td>0.00</td>\n",
       "      <td>2275.25</td>\n",
       "      <td>6601.25</td>\n",
       "      <td>5.2</td>\n",
       "      <td>4.9</td>\n",
       "      <td>98.0</td>\n",
       "      <td>0.1</td>\n",
       "      <td>1.4</td>\n",
       "      <td>1026.6</td>\n",
       "      <td>0.0</td>\n",
       "    </tr>\n",
       "    <tr>\n",
       "      <th>1</th>\n",
       "      <td>2016-01-01 01:00:00</td>\n",
       "      <td>22.39</td>\n",
       "      <td>48192.75</td>\n",
       "      <td>0.00</td>\n",
       "      <td>2285.50</td>\n",
       "      <td>6445.75</td>\n",
       "      <td>4.7</td>\n",
       "      <td>4.6</td>\n",
       "      <td>99.0</td>\n",
       "      <td>0.0</td>\n",
       "      <td>3.2</td>\n",
       "      <td>1026.4</td>\n",
       "      <td>0.0</td>\n",
       "    </tr>\n",
       "    <tr>\n",
       "      <th>2</th>\n",
       "      <td>2016-01-01 02:00:00</td>\n",
       "      <td>20.59</td>\n",
       "      <td>46264.75</td>\n",
       "      <td>0.00</td>\n",
       "      <td>2228.75</td>\n",
       "      <td>6422.75</td>\n",
       "      <td>3.8</td>\n",
       "      <td>3.7</td>\n",
       "      <td>99.0</td>\n",
       "      <td>0.5</td>\n",
       "      <td>4.3</td>\n",
       "      <td>1026.9</td>\n",
       "      <td>0.0</td>\n",
       "    </tr>\n",
       "    <tr>\n",
       "      <th>3</th>\n",
       "      <td>2016-01-01 03:00:00</td>\n",
       "      <td>16.81</td>\n",
       "      <td>44942.00</td>\n",
       "      <td>0.00</td>\n",
       "      <td>2011.50</td>\n",
       "      <td>6487.00</td>\n",
       "      <td>4.0</td>\n",
       "      <td>3.9</td>\n",
       "      <td>99.0</td>\n",
       "      <td>0.5</td>\n",
       "      <td>4.0</td>\n",
       "      <td>1027.4</td>\n",
       "      <td>0.0</td>\n",
       "    </tr>\n",
       "    <tr>\n",
       "      <th>4</th>\n",
       "      <td>2016-01-01 04:00:00</td>\n",
       "      <td>17.41</td>\n",
       "      <td>44431.50</td>\n",
       "      <td>0.00</td>\n",
       "      <td>1942.75</td>\n",
       "      <td>6391.25</td>\n",
       "      <td>4.0</td>\n",
       "      <td>3.9</td>\n",
       "      <td>99.0</td>\n",
       "      <td>0.6</td>\n",
       "      <td>4.0</td>\n",
       "      <td>1027.5</td>\n",
       "      <td>0.0</td>\n",
       "    </tr>\n",
       "    <tr>\n",
       "      <th>...</th>\n",
       "      <td>...</td>\n",
       "      <td>...</td>\n",
       "      <td>...</td>\n",
       "      <td>...</td>\n",
       "      <td>...</td>\n",
       "      <td>...</td>\n",
       "      <td>...</td>\n",
       "      <td>...</td>\n",
       "      <td>...</td>\n",
       "      <td>...</td>\n",
       "      <td>...</td>\n",
       "      <td>...</td>\n",
       "      <td>...</td>\n",
       "    </tr>\n",
       "    <tr>\n",
       "      <th>49195</th>\n",
       "      <td>2021-08-11 19:00:00</td>\n",
       "      <td>128.46</td>\n",
       "      <td>54968.50</td>\n",
       "      <td>371.25</td>\n",
       "      <td>738.50</td>\n",
       "      <td>3845.50</td>\n",
       "      <td>23.1</td>\n",
       "      <td>14.4</td>\n",
       "      <td>58.0</td>\n",
       "      <td>0.0</td>\n",
       "      <td>7.4</td>\n",
       "      <td>1019.0</td>\n",
       "      <td>60.0</td>\n",
       "    </tr>\n",
       "    <tr>\n",
       "      <th>49196</th>\n",
       "      <td>2021-08-11 20:00:00</td>\n",
       "      <td>139.89</td>\n",
       "      <td>53684.75</td>\n",
       "      <td>0.50</td>\n",
       "      <td>558.00</td>\n",
       "      <td>3459.25</td>\n",
       "      <td>21.7</td>\n",
       "      <td>14.8</td>\n",
       "      <td>65.0</td>\n",
       "      <td>0.0</td>\n",
       "      <td>5.5</td>\n",
       "      <td>1019.8</td>\n",
       "      <td>60.0</td>\n",
       "    </tr>\n",
       "    <tr>\n",
       "      <th>49197</th>\n",
       "      <td>2021-08-11 21:00:00</td>\n",
       "      <td>125.01</td>\n",
       "      <td>53684.75</td>\n",
       "      <td>0.50</td>\n",
       "      <td>558.00</td>\n",
       "      <td>3459.25</td>\n",
       "      <td>21.7</td>\n",
       "      <td>14.8</td>\n",
       "      <td>65.0</td>\n",
       "      <td>0.0</td>\n",
       "      <td>5.5</td>\n",
       "      <td>1019.8</td>\n",
       "      <td>60.0</td>\n",
       "    </tr>\n",
       "    <tr>\n",
       "      <th>49198</th>\n",
       "      <td>2021-08-11 22:00:00</td>\n",
       "      <td>117.00</td>\n",
       "      <td>53684.75</td>\n",
       "      <td>0.50</td>\n",
       "      <td>558.00</td>\n",
       "      <td>3459.25</td>\n",
       "      <td>21.7</td>\n",
       "      <td>14.8</td>\n",
       "      <td>65.0</td>\n",
       "      <td>0.0</td>\n",
       "      <td>5.5</td>\n",
       "      <td>1019.8</td>\n",
       "      <td>60.0</td>\n",
       "    </tr>\n",
       "    <tr>\n",
       "      <th>49199</th>\n",
       "      <td>2021-08-11 23:00:00</td>\n",
       "      <td>103.00</td>\n",
       "      <td>53684.75</td>\n",
       "      <td>0.50</td>\n",
       "      <td>558.00</td>\n",
       "      <td>3459.25</td>\n",
       "      <td>21.7</td>\n",
       "      <td>14.8</td>\n",
       "      <td>65.0</td>\n",
       "      <td>0.0</td>\n",
       "      <td>5.5</td>\n",
       "      <td>1019.8</td>\n",
       "      <td>60.0</td>\n",
       "    </tr>\n",
       "  </tbody>\n",
       "</table>\n",
       "<p>49200 rows × 13 columns</p>\n",
       "</div>"
      ],
      "text/plain": [
       "                    index  SPOTPrice      Load   Solar  Wind Offshore  \\\n",
       "0     2016-01-01 00:00:00      23.86  50211.00    0.00        2275.25   \n",
       "1     2016-01-01 01:00:00      22.39  48192.75    0.00        2285.50   \n",
       "2     2016-01-01 02:00:00      20.59  46264.75    0.00        2228.75   \n",
       "3     2016-01-01 03:00:00      16.81  44942.00    0.00        2011.50   \n",
       "4     2016-01-01 04:00:00      17.41  44431.50    0.00        1942.75   \n",
       "...                   ...        ...       ...     ...            ...   \n",
       "49195 2021-08-11 19:00:00     128.46  54968.50  371.25         738.50   \n",
       "49196 2021-08-11 20:00:00     139.89  53684.75    0.50         558.00   \n",
       "49197 2021-08-11 21:00:00     125.01  53684.75    0.50         558.00   \n",
       "49198 2021-08-11 22:00:00     117.00  53684.75    0.50         558.00   \n",
       "49199 2021-08-11 23:00:00     103.00  53684.75    0.50         558.00   \n",
       "\n",
       "       Wind Onshore  temp  dwpt  rhum  prcp  wspd    pres  tsun  \n",
       "0           6601.25   5.2   4.9  98.0   0.1   1.4  1026.6   0.0  \n",
       "1           6445.75   4.7   4.6  99.0   0.0   3.2  1026.4   0.0  \n",
       "2           6422.75   3.8   3.7  99.0   0.5   4.3  1026.9   0.0  \n",
       "3           6487.00   4.0   3.9  99.0   0.5   4.0  1027.4   0.0  \n",
       "4           6391.25   4.0   3.9  99.0   0.6   4.0  1027.5   0.0  \n",
       "...             ...   ...   ...   ...   ...   ...     ...   ...  \n",
       "49195       3845.50  23.1  14.4  58.0   0.0   7.4  1019.0  60.0  \n",
       "49196       3459.25  21.7  14.8  65.0   0.0   5.5  1019.8  60.0  \n",
       "49197       3459.25  21.7  14.8  65.0   0.0   5.5  1019.8  60.0  \n",
       "49198       3459.25  21.7  14.8  65.0   0.0   5.5  1019.8  60.0  \n",
       "49199       3459.25  21.7  14.8  65.0   0.0   5.5  1019.8  60.0  \n",
       "\n",
       "[49200 rows x 13 columns]"
      ]
     },
     "execution_count": 4,
     "metadata": {},
     "output_type": "execute_result"
    }
   ],
   "source": [
    "# unit: €/MWh\n",
    "data_hourly"
   ]
  },
  {
   "cell_type": "code",
   "execution_count": 5,
   "id": "6e43dfd0",
   "metadata": {},
   "outputs": [],
   "source": [
    "data_spot = data_hourly.loc[:, ['index','SPOTPrice']]\n",
    "data_load = data_hourly.Load\n",
    "data_solar = data_hourly.Solar\n",
    "data_off = data_hourly['Wind Offshore']\n",
    "data_on = data_hourly['Wind Onshore']\n",
    "data_temp = data_hourly.temp\n",
    "data_dwpt = data_hourly.dwpt\n",
    "data_rhum = data_hourly.rhum\n",
    "data_prcp = data_hourly.prcp\n",
    "data_wspd = data_hourly.wspd\n",
    "data_pres = data_hourly.pres\n",
    "data_tsun = data_hourly.tsun"
   ]
  },
  {
   "cell_type": "code",
   "execution_count": 6,
   "id": "80e2ecf9",
   "metadata": {},
   "outputs": [
    {
     "data": {
      "text/html": [
       "<div>\n",
       "<style scoped>\n",
       "    .dataframe tbody tr th:only-of-type {\n",
       "        vertical-align: middle;\n",
       "    }\n",
       "\n",
       "    .dataframe tbody tr th {\n",
       "        vertical-align: top;\n",
       "    }\n",
       "\n",
       "    .dataframe thead th {\n",
       "        text-align: right;\n",
       "    }\n",
       "</style>\n",
       "<table border=\"1\" class=\"dataframe\">\n",
       "  <thead>\n",
       "    <tr style=\"text-align: right;\">\n",
       "      <th></th>\n",
       "      <th>ds</th>\n",
       "      <th>y</th>\n",
       "    </tr>\n",
       "  </thead>\n",
       "  <tbody>\n",
       "    <tr>\n",
       "      <th>0</th>\n",
       "      <td>2016-01-01 00:00:00</td>\n",
       "      <td>23.86</td>\n",
       "    </tr>\n",
       "    <tr>\n",
       "      <th>1</th>\n",
       "      <td>2016-01-01 01:00:00</td>\n",
       "      <td>22.39</td>\n",
       "    </tr>\n",
       "    <tr>\n",
       "      <th>2</th>\n",
       "      <td>2016-01-01 02:00:00</td>\n",
       "      <td>20.59</td>\n",
       "    </tr>\n",
       "    <tr>\n",
       "      <th>3</th>\n",
       "      <td>2016-01-01 03:00:00</td>\n",
       "      <td>16.81</td>\n",
       "    </tr>\n",
       "    <tr>\n",
       "      <th>4</th>\n",
       "      <td>2016-01-01 04:00:00</td>\n",
       "      <td>17.41</td>\n",
       "    </tr>\n",
       "    <tr>\n",
       "      <th>...</th>\n",
       "      <td>...</td>\n",
       "      <td>...</td>\n",
       "    </tr>\n",
       "    <tr>\n",
       "      <th>49195</th>\n",
       "      <td>2021-08-11 19:00:00</td>\n",
       "      <td>128.46</td>\n",
       "    </tr>\n",
       "    <tr>\n",
       "      <th>49196</th>\n",
       "      <td>2021-08-11 20:00:00</td>\n",
       "      <td>139.89</td>\n",
       "    </tr>\n",
       "    <tr>\n",
       "      <th>49197</th>\n",
       "      <td>2021-08-11 21:00:00</td>\n",
       "      <td>125.01</td>\n",
       "    </tr>\n",
       "    <tr>\n",
       "      <th>49198</th>\n",
       "      <td>2021-08-11 22:00:00</td>\n",
       "      <td>117.00</td>\n",
       "    </tr>\n",
       "    <tr>\n",
       "      <th>49199</th>\n",
       "      <td>2021-08-11 23:00:00</td>\n",
       "      <td>103.00</td>\n",
       "    </tr>\n",
       "  </tbody>\n",
       "</table>\n",
       "<p>49200 rows × 2 columns</p>\n",
       "</div>"
      ],
      "text/plain": [
       "                       ds       y\n",
       "0     2016-01-01 00:00:00   23.86\n",
       "1     2016-01-01 01:00:00   22.39\n",
       "2     2016-01-01 02:00:00   20.59\n",
       "3     2016-01-01 03:00:00   16.81\n",
       "4     2016-01-01 04:00:00   17.41\n",
       "...                   ...     ...\n",
       "49195 2021-08-11 19:00:00  128.46\n",
       "49196 2021-08-11 20:00:00  139.89\n",
       "49197 2021-08-11 21:00:00  125.01\n",
       "49198 2021-08-11 22:00:00  117.00\n",
       "49199 2021-08-11 23:00:00  103.00\n",
       "\n",
       "[49200 rows x 2 columns]"
      ]
     },
     "execution_count": 6,
     "metadata": {},
     "output_type": "execute_result"
    }
   ],
   "source": [
    "# switch column names to prophet structure\n",
    "data_spot = data_spot.rename({'index':'ds', 'SPOTPrice':'y'}, axis=1)\n",
    "data_spot"
   ]
  },
  {
   "cell_type": "markdown",
   "id": "89899537",
   "metadata": {},
   "source": [
    "For testing univariant spot price forecasting, subdivide the whole dataset into datasets with the following lengths \\\n",
    "(final week is excluded for the model evaluation; will be changed for a better quality in evaluation):\n",
    "* previous 5 and 1 year/-s\n",
    "* previous 6, 3 and 1 month/-s\n",
    "* previous 3, 2 and 1 week/-s\n",
    "* previous 5, 4, 3, 2 and 1 day/-s"
   ]
  },
  {
   "cell_type": "code",
   "execution_count": 7,
   "id": "f1a498a7",
   "metadata": {},
   "outputs": [],
   "source": [
    "# Testing set for Walk Forward Evaluation (+1h and +24h)\n",
    "df_test = data_spot.iloc[-169:]\n",
    "# Training and Validation Sets for Model Training and Hyperparameter Tuning\n",
    "df_all = data_spot.iloc[:-169]\n",
    "df_5a = data_spot.iloc[38568:-169]\n",
    "df_1a = data_spot.iloc[73632:-169]\n",
    "df_6m = data_spot.iloc[-4512:-169]\n",
    "df_3m = data_spot.iloc[-2304:-169]\n",
    "df_1m = data_spot.iloc[-912:-169]\n",
    "df_3w = data_spot.iloc[-672:-169]\n",
    "df_2w = data_spot.iloc[-504:-169]\n",
    "df_1w = data_spot.iloc[-336:-169]\n",
    "df_5d = data_spot.iloc[-288:-169]\n",
    "df_4d = data_spot.iloc[-264:-169]\n",
    "df_3d = data_spot.iloc[-240:-169]\n",
    "df_2d = data_spot.iloc[-216:-169]\n",
    "df_1d = data_spot.iloc[-192:-169]"
   ]
  },
  {
   "cell_type": "markdown",
   "id": "9f14907d",
   "metadata": {},
   "source": [
    "# Prophet Model\n",
    "## Crossvalidation on raw data"
   ]
  },
  {
   "cell_type": "code",
   "execution_count": 19,
   "id": "8dd0750c",
   "metadata": {},
   "outputs": [
    {
     "data": {
      "text/plain": [
       "<fbprophet.forecaster.Prophet at 0x7fec462730d0>"
      ]
     },
     "execution_count": 19,
     "metadata": {},
     "output_type": "execute_result"
    }
   ],
   "source": [
    "m = Prophet()\n",
    "m.add_country_holidays(country_name='Germany')\n",
    "m.fit(data_spot)"
   ]
  },
  {
   "cell_type": "code",
   "execution_count": 25,
   "id": "3449e229",
   "metadata": {},
   "outputs": [
    {
     "name": "stderr",
     "output_type": "stream",
     "text": [
      "INFO:fbprophet:Making 10 forecasts with cutoffs between 2021-08-02 22:00:00 and 2021-08-11 22:00:00\n"
     ]
    },
    {
     "data": {
      "application/vnd.jupyter.widget-view+json": {
       "model_id": "d3bfcec01e294b0ab1e1422c4f68ac9f",
       "version_major": 2,
       "version_minor": 0
      },
      "text/plain": [
       "  0%|          | 0/10 [00:00<?, ?it/s]"
      ]
     },
     "metadata": {},
     "output_type": "display_data"
    }
   ],
   "source": [
    "# initial: history to train on\n",
    "# period: how much is added to the history after one prediction \n",
    "# horizon: how far into the future should be predicted\n",
    "df_cv = cross_validation(m, initial='2040 days', period='1 day', horizon = '1 hours')"
   ]
  },
  {
   "cell_type": "code",
   "execution_count": 29,
   "id": "0f604ffd",
   "metadata": {},
   "outputs": [
    {
     "data": {
      "text/html": [
       "<div>\n",
       "<style scoped>\n",
       "    .dataframe tbody tr th:only-of-type {\n",
       "        vertical-align: middle;\n",
       "    }\n",
       "\n",
       "    .dataframe tbody tr th {\n",
       "        vertical-align: top;\n",
       "    }\n",
       "\n",
       "    .dataframe thead th {\n",
       "        text-align: right;\n",
       "    }\n",
       "</style>\n",
       "<table border=\"1\" class=\"dataframe\">\n",
       "  <thead>\n",
       "    <tr style=\"text-align: right;\">\n",
       "      <th></th>\n",
       "      <th>ds</th>\n",
       "      <th>yhat</th>\n",
       "      <th>yhat_lower</th>\n",
       "      <th>yhat_upper</th>\n",
       "      <th>y</th>\n",
       "      <th>cutoff</th>\n",
       "    </tr>\n",
       "  </thead>\n",
       "  <tbody>\n",
       "    <tr>\n",
       "      <th>0</th>\n",
       "      <td>2021-08-02 23:00:00</td>\n",
       "      <td>80.152205</td>\n",
       "      <td>64.367993</td>\n",
       "      <td>96.356301</td>\n",
       "      <td>92.91</td>\n",
       "      <td>2021-08-02 22:00:00</td>\n",
       "    </tr>\n",
       "    <tr>\n",
       "      <th>1</th>\n",
       "      <td>2021-08-03 23:00:00</td>\n",
       "      <td>78.695250</td>\n",
       "      <td>63.246744</td>\n",
       "      <td>94.117517</td>\n",
       "      <td>90.82</td>\n",
       "      <td>2021-08-03 22:00:00</td>\n",
       "    </tr>\n",
       "    <tr>\n",
       "      <th>2</th>\n",
       "      <td>2021-08-04 23:00:00</td>\n",
       "      <td>80.405080</td>\n",
       "      <td>64.642843</td>\n",
       "      <td>97.381012</td>\n",
       "      <td>90.03</td>\n",
       "      <td>2021-08-04 22:00:00</td>\n",
       "    </tr>\n",
       "    <tr>\n",
       "      <th>3</th>\n",
       "      <td>2021-08-05 23:00:00</td>\n",
       "      <td>79.538304</td>\n",
       "      <td>63.785071</td>\n",
       "      <td>95.167505</td>\n",
       "      <td>70.60</td>\n",
       "      <td>2021-08-05 22:00:00</td>\n",
       "    </tr>\n",
       "    <tr>\n",
       "      <th>4</th>\n",
       "      <td>2021-08-06 23:00:00</td>\n",
       "      <td>76.867287</td>\n",
       "      <td>60.599494</td>\n",
       "      <td>93.727078</td>\n",
       "      <td>67.56</td>\n",
       "      <td>2021-08-06 22:00:00</td>\n",
       "    </tr>\n",
       "    <tr>\n",
       "      <th>5</th>\n",
       "      <td>2021-08-07 23:00:00</td>\n",
       "      <td>64.739047</td>\n",
       "      <td>49.168973</td>\n",
       "      <td>80.847760</td>\n",
       "      <td>58.02</td>\n",
       "      <td>2021-08-07 22:00:00</td>\n",
       "    </tr>\n",
       "    <tr>\n",
       "      <th>6</th>\n",
       "      <td>2021-08-08 23:00:00</td>\n",
       "      <td>68.512084</td>\n",
       "      <td>52.096612</td>\n",
       "      <td>85.869433</td>\n",
       "      <td>56.58</td>\n",
       "      <td>2021-08-08 22:00:00</td>\n",
       "    </tr>\n",
       "    <tr>\n",
       "      <th>7</th>\n",
       "      <td>2021-08-09 23:00:00</td>\n",
       "      <td>78.704580</td>\n",
       "      <td>62.430634</td>\n",
       "      <td>95.560996</td>\n",
       "      <td>83.65</td>\n",
       "      <td>2021-08-09 22:00:00</td>\n",
       "    </tr>\n",
       "    <tr>\n",
       "      <th>8</th>\n",
       "      <td>2021-08-10 23:00:00</td>\n",
       "      <td>77.364611</td>\n",
       "      <td>60.738839</td>\n",
       "      <td>94.167788</td>\n",
       "      <td>92.25</td>\n",
       "      <td>2021-08-10 22:00:00</td>\n",
       "    </tr>\n",
       "    <tr>\n",
       "      <th>9</th>\n",
       "      <td>2021-08-11 23:00:00</td>\n",
       "      <td>79.264706</td>\n",
       "      <td>63.763887</td>\n",
       "      <td>94.310298</td>\n",
       "      <td>103.00</td>\n",
       "      <td>2021-08-11 22:00:00</td>\n",
       "    </tr>\n",
       "  </tbody>\n",
       "</table>\n",
       "</div>"
      ],
      "text/plain": [
       "                   ds       yhat  yhat_lower  yhat_upper       y  \\\n",
       "0 2021-08-02 23:00:00  80.152205   64.367993   96.356301   92.91   \n",
       "1 2021-08-03 23:00:00  78.695250   63.246744   94.117517   90.82   \n",
       "2 2021-08-04 23:00:00  80.405080   64.642843   97.381012   90.03   \n",
       "3 2021-08-05 23:00:00  79.538304   63.785071   95.167505   70.60   \n",
       "4 2021-08-06 23:00:00  76.867287   60.599494   93.727078   67.56   \n",
       "5 2021-08-07 23:00:00  64.739047   49.168973   80.847760   58.02   \n",
       "6 2021-08-08 23:00:00  68.512084   52.096612   85.869433   56.58   \n",
       "7 2021-08-09 23:00:00  78.704580   62.430634   95.560996   83.65   \n",
       "8 2021-08-10 23:00:00  77.364611   60.738839   94.167788   92.25   \n",
       "9 2021-08-11 23:00:00  79.264706   63.763887   94.310298  103.00   \n",
       "\n",
       "               cutoff  \n",
       "0 2021-08-02 22:00:00  \n",
       "1 2021-08-03 22:00:00  \n",
       "2 2021-08-04 22:00:00  \n",
       "3 2021-08-05 22:00:00  \n",
       "4 2021-08-06 22:00:00  \n",
       "5 2021-08-07 22:00:00  \n",
       "6 2021-08-08 22:00:00  \n",
       "7 2021-08-09 22:00:00  \n",
       "8 2021-08-10 22:00:00  \n",
       "9 2021-08-11 22:00:00  "
      ]
     },
     "execution_count": 29,
     "metadata": {},
     "output_type": "execute_result"
    }
   ],
   "source": [
    "df_cv"
   ]
  },
  {
   "cell_type": "code",
   "execution_count": 30,
   "id": "357fd90d",
   "metadata": {},
   "outputs": [
    {
     "data": {
      "text/html": [
       "<div>\n",
       "<style scoped>\n",
       "    .dataframe tbody tr th:only-of-type {\n",
       "        vertical-align: middle;\n",
       "    }\n",
       "\n",
       "    .dataframe tbody tr th {\n",
       "        vertical-align: top;\n",
       "    }\n",
       "\n",
       "    .dataframe thead th {\n",
       "        text-align: right;\n",
       "    }\n",
       "</style>\n",
       "<table border=\"1\" class=\"dataframe\">\n",
       "  <thead>\n",
       "    <tr style=\"text-align: right;\">\n",
       "      <th></th>\n",
       "      <th>horizon</th>\n",
       "      <th>mse</th>\n",
       "      <th>rmse</th>\n",
       "      <th>mae</th>\n",
       "      <th>mape</th>\n",
       "      <th>mdape</th>\n",
       "      <th>coverage</th>\n",
       "    </tr>\n",
       "  </thead>\n",
       "  <tbody>\n",
       "    <tr>\n",
       "      <th>0</th>\n",
       "      <td>0 days 01:00:00</td>\n",
       "      <td>156.584525</td>\n",
       "      <td>12.513374</td>\n",
       "      <td>11.497029</td>\n",
       "      <td>0.141971</td>\n",
       "      <td>0.135408</td>\n",
       "      <td>0.9</td>\n",
       "    </tr>\n",
       "  </tbody>\n",
       "</table>\n",
       "</div>"
      ],
      "text/plain": [
       "          horizon         mse       rmse        mae      mape     mdape  \\\n",
       "0 0 days 01:00:00  156.584525  12.513374  11.497029  0.141971  0.135408   \n",
       "\n",
       "   coverage  \n",
       "0       0.9  "
      ]
     },
     "execution_count": 30,
     "metadata": {},
     "output_type": "execute_result"
    }
   ],
   "source": [
    "df_p = performance_metrics(df_cv)\n",
    "df_p"
   ]
  },
  {
   "cell_type": "code",
   "execution_count": 37,
   "id": "d653ce39",
   "metadata": {},
   "outputs": [
    {
     "data": {
      "image/png": "[encoded data removed]",
      "text/plain": [
       "<Figure size 720x432 with 1 Axes>"
      ]
     },
     "metadata": {},
     "output_type": "display_data"
    }
   ],
   "source": [
    "fig = plot_cross_validation_metric(df_cv, metric='rmse')"
   ]
  },
  {
   "cell_type": "code",
   "execution_count": 149,
   "id": "05010146",
   "metadata": {},
   "outputs": [
    {
     "data": {
      "text/plain": [
       "Text(48.875, 0.5, 'Daily seasonality')"
      ]
     },
     "execution_count": 149,
     "metadata": {},
     "output_type": "execute_result"
    },
    {
     "data": {
      "image/png": "[encoded data removed]",
      "text/plain": [
       "<Figure size 648x864 with 4 Axes>"
      ]
     },
     "metadata": {},
     "output_type": "display_data"
    }
   ],
   "source": [
    "future = m.make_future_dataframe(periods=100, freq='24h', include_history = False)\n",
    "forecast = m.predict(future)\n",
    "f = m.plot_components(forecast)\n",
    "f.get_children()[1].set_xlabel('Prediciton timeframe',  fontsize=13)\n",
    "f.get_children()[2].set_xlabel('Days of week', fontsize=13)\n",
    "f.get_children()[3].set_xlabel('Day of month', fontsize=13)\n",
    "f.get_children()[4].set_xlabel('Time of day', fontsize=13)\n",
    "f.get_children()[1].set_ylabel('Trend', fontsize=13)\n",
    "f.get_children()[2].set_ylabel('Weekly seasonality', fontsize=13)\n",
    "f.get_children()[3].set_ylabel('Yearly seasonality', fontsize=13)\n",
    "f.get_children()[4].set_ylabel('Daily seasonality', fontsize=13)"
   ]
  },
  {
   "cell_type": "markdown",
   "id": "b52d10a4",
   "metadata": {},
   "source": [
    "# Hyperparameter tuning"
   ]
  },
  {
   "cell_type": "markdown",
   "id": "eabd3b7a",
   "metadata": {},
   "source": [
    "important to remember for cross validation:\n",
    "### initial: \n",
    "history to train on\n",
    "### period: \n",
    "how much is added to the history after one prediction \n",
    "### horizon: \n",
    "how far into the future should be predicted"
   ]
  },
  {
   "cell_type": "markdown",
   "id": "cb5086db",
   "metadata": {},
   "source": [
    "## Tuning 1h prediction"
   ]
  },
  {
   "cell_type": "code",
   "execution_count": null,
   "id": "ec2205fc",
   "metadata": {},
   "outputs": [],
   "source": [
    "param_grid = {  \n",
    "    'changepoint_prior_scale': [0.1, 0.5, 0.7, 0.9],\n",
    "    'seasonality_prior_scale': [0.01, 0.1, 1.0, 5.0, 10.0],\n",
    "}\n",
    "\n",
    "# Generate all combinations of parameters\n",
    "all_params = [dict(zip(param_grid.keys(), v)) for v in itertools.product(*param_grid.values())]\n",
    "rmses = []  # Store the RMSEs for each params here\n",
    "\n",
    "# Use cross validation to evaluate all parameters\n",
    "for params in all_params:\n",
    "    m = Prophet(**params).fit(df_all)  # Fit model with given params\n",
    "    df_cv = cross_validation(m, initial='2030 days', period='1 day', horizon = '1 hours', parallel=\"processes\")\n",
    "    df_p = performance_metrics(df_cv, rolling_window=1)\n",
    "    rmses.append(df_p['rmse'].values[0])\n",
    "\n",
    "# Find the best parameters\n",
    "tuning_results = pd.DataFrame(all_params)\n",
    "tuning_results['rmse'] = rmses\n",
    "print(tuning_results)"
   ]
  },
  {
   "cell_type": "code",
   "execution_count": null,
   "id": "1ca4ef93",
   "metadata": {},
   "outputs": [],
   "source": [
    "best_params = all_params[np.argmin(rmses)]\n",
    "print(best_params)"
   ]
  },
  {
   "cell_type": "markdown",
   "id": "d9247c95",
   "metadata": {},
   "source": [
    "## Tuning 24h prediction"
   ]
  },
  {
   "cell_type": "code",
   "execution_count": null,
   "id": "ca6d4c02",
   "metadata": {},
   "outputs": [],
   "source": [
    "param_grid = {  \n",
    "    'changepoint_prior_scale': [0.01, 0.1, 0.5, 0.7, 0.9],\n",
    "    'seasonality_prior_scale': [0.01, 0.1, 1.0, 5.0, 10.0],\n",
    "}\n",
    "\n",
    "# Generate all combinations of parameters\n",
    "all_params = [dict(zip(param_grid.keys(), v)) for v in itertools.product(*param_grid.values())]\n",
    "rmses = []  # Store the RMSEs for each params here\n",
    "\n",
    "# Use cross validation to evaluate all parameters\n",
    "for params in all_params:\n",
    "    m = Prophet(**params).fit(df_all)  # Fit model with given params\n",
    "    df_cv = cross_validation(m, initial='2000 days',period = '4 days', horizon='1 day', parallel=\"processes\")\n",
    "    df_p = performance_metrics(df_cv, rolling_window=1)\n",
    "    rmses.append(df_p['rmse'].values[0])\n",
    "\n",
    "# Find the best parameters\n",
    "tuning_results2 = pd.DataFrame(all_params)\n",
    "tuning_results2['rmse'] = rmses\n",
    "print(tuning_results2)"
   ]
  },
  {
   "cell_type": "code",
   "execution_count": null,
   "id": "478821dc",
   "metadata": {},
   "outputs": [],
   "source": [
    "best_params2 = all_params[np.argmin(rmses)]\n",
    "print(best_params2)"
   ]
  },
  {
   "cell_type": "markdown",
   "id": "87a60e40",
   "metadata": {},
   "source": [
    "## Tuning 1 week prediciton"
   ]
  },
  {
   "cell_type": "code",
   "execution_count": null,
   "id": "bcf957bf",
   "metadata": {},
   "outputs": [],
   "source": [
    "param_grid = {  \n",
    "    'changepoint_prior_scale': [0.001, 0.01, 0.1, 0.5, 0.8],\n",
    "    'seasonality_prior_scale': [0.01, 0.1, 1.0, 5.0, 10.0],\n",
    "}\n",
    "\n",
    "# Generate all combinations of parameters\n",
    "all_params = [dict(zip(param_grid.keys(), v)) for v in itertools.product(*param_grid.values())]\n",
    "rmses = []  # Store the RMSEs for each params here\n",
    "\n",
    "# Use cross validation to evaluate all parameters\n",
    "for params in all_params:\n",
    "    m = Prophet(**params).fit(df_all)  # Fit model with given params\n",
    "    df_cv = cross_validation(m, initial='1900 days', period = '7 days', horizon='7 days', parallel=\"processes\")\n",
    "    df_p = performance_metrics(df_cv, rolling_window=1)\n",
    "    rmses.append(df_p['rmse'].values[0])\n",
    "\n",
    "# Find the best parameters\n",
    "tuning_results3 = pd.DataFrame(all_params)\n",
    "tuning_results3['rmse'] = rmses\n",
    "print(tuning_results3)"
   ]
  },
  {
   "cell_type": "code",
   "execution_count": null,
   "id": "9df3bb0d",
   "metadata": {},
   "outputs": [],
   "source": [
    "best_params3 = all_params[np.argmin(rmses)]\n",
    "print(best_params3)"
   ]
  },
  {
   "cell_type": "markdown",
   "id": "c1e172d4",
   "metadata": {},
   "source": [
    "## Tuning with additional features"
   ]
  },
  {
   "cell_type": "markdown",
   "id": "e8778461",
   "metadata": {},
   "source": [
    "Possible if no prediction for features avalaible??"
   ]
  },
  {
   "cell_type": "markdown",
   "id": "0d396156",
   "metadata": {},
   "source": [
    "## Testing 1h prediction"
   ]
  },
  {
   "cell_type": "code",
   "execution_count": 97,
   "id": "1de10df2",
   "metadata": {},
   "outputs": [
    {
     "data": {
      "text/plain": [
       "<fbprophet.forecaster.Prophet at 0x7fec36ffa640>"
      ]
     },
     "execution_count": 97,
     "metadata": {},
     "output_type": "execute_result"
    }
   ],
   "source": [
    "mh1 = Prophet(changepoint_prior_scale = 0.8, seasonality_prior_scale = 0.1, yearly_seasonality = True)\n",
    "mh1.add_country_holidays(country_name='Germany')\n",
    "# fit on 425 days\n",
    "mh1.fit(data_spot[39000:])"
   ]
  },
  {
   "cell_type": "code",
   "execution_count": 100,
   "id": "8f4d6979",
   "metadata": {},
   "outputs": [
    {
     "name": "stderr",
     "output_type": "stream",
     "text": [
      "INFO:fbprophet:Making 23 forecasts with cutoffs between 2021-08-11 00:00:00 and 2021-08-11 22:00:00\n"
     ]
    },
    {
     "data": {
      "application/vnd.jupyter.widget-view+json": {
       "model_id": "441115594d7249ebbedc385e2dff3be7",
       "version_major": 2,
       "version_minor": 0
      },
      "text/plain": [
       "  0%|          | 0/23 [00:00<?, ?it/s]"
      ]
     },
     "metadata": {},
     "output_type": "display_data"
    }
   ],
   "source": [
    "df_cv = cross_validation(mh1, initial='424 days', period='1 hours', horizon = '1 hours')"
   ]
  },
  {
   "cell_type": "code",
   "execution_count": 107,
   "id": "b3d9087b",
   "metadata": {},
   "outputs": [
    {
     "data": {
      "text/html": [
       "<div>\n",
       "<style scoped>\n",
       "    .dataframe tbody tr th:only-of-type {\n",
       "        vertical-align: middle;\n",
       "    }\n",
       "\n",
       "    .dataframe tbody tr th {\n",
       "        vertical-align: top;\n",
       "    }\n",
       "\n",
       "    .dataframe thead th {\n",
       "        text-align: right;\n",
       "    }\n",
       "</style>\n",
       "<table border=\"1\" class=\"dataframe\">\n",
       "  <thead>\n",
       "    <tr style=\"text-align: right;\">\n",
       "      <th></th>\n",
       "      <th>horizon</th>\n",
       "      <th>mse</th>\n",
       "      <th>rmse</th>\n",
       "      <th>mae</th>\n",
       "      <th>mape</th>\n",
       "      <th>mdape</th>\n",
       "      <th>coverage</th>\n",
       "    </tr>\n",
       "  </thead>\n",
       "  <tbody>\n",
       "    <tr>\n",
       "      <th>0</th>\n",
       "      <td>0 days 01:00:00</td>\n",
       "      <td>869.145914</td>\n",
       "      <td>29.481281</td>\n",
       "      <td>27.060173</td>\n",
       "      <td>0.257722</td>\n",
       "      <td>0.261335</td>\n",
       "      <td>0.304348</td>\n",
       "    </tr>\n",
       "  </tbody>\n",
       "</table>\n",
       "</div>"
      ],
      "text/plain": [
       "          horizon         mse       rmse        mae      mape     mdape  \\\n",
       "0 0 days 01:00:00  869.145914  29.481281  27.060173  0.257722  0.261335   \n",
       "\n",
       "   coverage  \n",
       "0  0.304348  "
      ]
     },
     "execution_count": 107,
     "metadata": {},
     "output_type": "execute_result"
    }
   ],
   "source": [
    "df_p = performance_metrics(df_cv)\n",
    "df_p"
   ]
  },
  {
   "cell_type": "markdown",
   "id": "60caa040",
   "metadata": {},
   "source": [
    "## Testing 1d prediction"
   ]
  },
  {
   "cell_type": "code",
   "execution_count": 106,
   "id": "c5ee5f51",
   "metadata": {},
   "outputs": [
    {
     "data": {
      "text/plain": [
       "<fbprophet.forecaster.Prophet at 0x7fec160462e0>"
      ]
     },
     "execution_count": 106,
     "metadata": {},
     "output_type": "execute_result"
    }
   ],
   "source": [
    "md1 = Prophet(changepoint_prior_scale = 0.5, seasonality_prior_scale = 5.0, yearly_seasonality = True)\n",
    "md1.add_country_holidays(country_name='Germany')\n",
    "md1.fit(data_spot[39000:])"
   ]
  },
  {
   "cell_type": "code",
   "execution_count": 113,
   "id": "c8fffe5a",
   "metadata": {},
   "outputs": [
    {
     "name": "stderr",
     "output_type": "stream",
     "text": [
      "INFO:fbprophet:Making 24 forecasts with cutoffs between 2021-08-10 00:00:00 and 2021-08-10 23:00:00\n"
     ]
    },
    {
     "data": {
      "application/vnd.jupyter.widget-view+json": {
       "model_id": "ed2f0f396086427baf80c998ee496f8a",
       "version_major": 2,
       "version_minor": 0
      },
      "text/plain": [
       "  0%|          | 0/24 [00:00<?, ?it/s]"
      ]
     },
     "metadata": {},
     "output_type": "display_data"
    }
   ],
   "source": [
    "df_cv_d1 = cross_validation(md1, initial='423 days', period='1 hours', horizon = '1 day')"
   ]
  },
  {
   "cell_type": "code",
   "execution_count": 114,
   "id": "0f319cf6",
   "metadata": {},
   "outputs": [
    {
     "data": {
      "text/html": [
       "<div>\n",
       "<style scoped>\n",
       "    .dataframe tbody tr th:only-of-type {\n",
       "        vertical-align: middle;\n",
       "    }\n",
       "\n",
       "    .dataframe tbody tr th {\n",
       "        vertical-align: top;\n",
       "    }\n",
       "\n",
       "    .dataframe thead th {\n",
       "        text-align: right;\n",
       "    }\n",
       "</style>\n",
       "<table border=\"1\" class=\"dataframe\">\n",
       "  <thead>\n",
       "    <tr style=\"text-align: right;\">\n",
       "      <th></th>\n",
       "      <th>horizon</th>\n",
       "      <th>mse</th>\n",
       "      <th>rmse</th>\n",
       "      <th>mae</th>\n",
       "      <th>mape</th>\n",
       "      <th>mdape</th>\n",
       "      <th>coverage</th>\n",
       "    </tr>\n",
       "  </thead>\n",
       "  <tbody>\n",
       "    <tr>\n",
       "      <th>0</th>\n",
       "      <td>0 days 03:00:00</td>\n",
       "      <td>684.341813</td>\n",
       "      <td>26.159928</td>\n",
       "      <td>23.465805</td>\n",
       "      <td>0.240814</td>\n",
       "      <td>0.254840</td>\n",
       "      <td>0.405702</td>\n",
       "    </tr>\n",
       "    <tr>\n",
       "      <th>1</th>\n",
       "      <td>0 days 04:00:00</td>\n",
       "      <td>715.532967</td>\n",
       "      <td>26.749448</td>\n",
       "      <td>24.322951</td>\n",
       "      <td>0.249774</td>\n",
       "      <td>0.256815</td>\n",
       "      <td>0.346491</td>\n",
       "    </tr>\n",
       "    <tr>\n",
       "      <th>2</th>\n",
       "      <td>0 days 05:00:00</td>\n",
       "      <td>748.270223</td>\n",
       "      <td>27.354528</td>\n",
       "      <td>25.165113</td>\n",
       "      <td>0.258503</td>\n",
       "      <td>0.262801</td>\n",
       "      <td>0.287281</td>\n",
       "    </tr>\n",
       "    <tr>\n",
       "      <th>3</th>\n",
       "      <td>0 days 06:00:00</td>\n",
       "      <td>782.743082</td>\n",
       "      <td>27.977546</td>\n",
       "      <td>26.016134</td>\n",
       "      <td>0.267154</td>\n",
       "      <td>0.277993</td>\n",
       "      <td>0.239035</td>\n",
       "    </tr>\n",
       "    <tr>\n",
       "      <th>4</th>\n",
       "      <td>0 days 07:00:00</td>\n",
       "      <td>826.752426</td>\n",
       "      <td>28.753303</td>\n",
       "      <td>26.964299</td>\n",
       "      <td>0.275822</td>\n",
       "      <td>0.284582</td>\n",
       "      <td>0.197368</td>\n",
       "    </tr>\n",
       "    <tr>\n",
       "      <th>5</th>\n",
       "      <td>0 days 08:00:00</td>\n",
       "      <td>902.109496</td>\n",
       "      <td>30.035138</td>\n",
       "      <td>28.109236</td>\n",
       "      <td>0.284254</td>\n",
       "      <td>0.288819</td>\n",
       "      <td>0.173246</td>\n",
       "    </tr>\n",
       "    <tr>\n",
       "      <th>6</th>\n",
       "      <td>0 days 09:00:00</td>\n",
       "      <td>967.539172</td>\n",
       "      <td>31.105292</td>\n",
       "      <td>29.000365</td>\n",
       "      <td>0.290316</td>\n",
       "      <td>0.292551</td>\n",
       "      <td>0.149123</td>\n",
       "    </tr>\n",
       "    <tr>\n",
       "      <th>7</th>\n",
       "      <td>0 days 10:00:00</td>\n",
       "      <td>1001.311838</td>\n",
       "      <td>31.643512</td>\n",
       "      <td>29.467119</td>\n",
       "      <td>0.293693</td>\n",
       "      <td>0.292551</td>\n",
       "      <td>0.131579</td>\n",
       "    </tr>\n",
       "    <tr>\n",
       "      <th>8</th>\n",
       "      <td>0 days 11:00:00</td>\n",
       "      <td>1011.556936</td>\n",
       "      <td>31.804983</td>\n",
       "      <td>29.586501</td>\n",
       "      <td>0.294779</td>\n",
       "      <td>0.297223</td>\n",
       "      <td>0.125000</td>\n",
       "    </tr>\n",
       "    <tr>\n",
       "      <th>9</th>\n",
       "      <td>0 days 12:00:00</td>\n",
       "      <td>1019.734962</td>\n",
       "      <td>31.933289</td>\n",
       "      <td>29.633739</td>\n",
       "      <td>0.295257</td>\n",
       "      <td>0.297440</td>\n",
       "      <td>0.142544</td>\n",
       "    </tr>\n",
       "    <tr>\n",
       "      <th>10</th>\n",
       "      <td>0 days 13:00:00</td>\n",
       "      <td>1028.525648</td>\n",
       "      <td>32.070635</td>\n",
       "      <td>29.702845</td>\n",
       "      <td>0.295852</td>\n",
       "      <td>0.302674</td>\n",
       "      <td>0.142544</td>\n",
       "    </tr>\n",
       "    <tr>\n",
       "      <th>11</th>\n",
       "      <td>0 days 14:00:00</td>\n",
       "      <td>1038.591728</td>\n",
       "      <td>32.227189</td>\n",
       "      <td>29.825584</td>\n",
       "      <td>0.296849</td>\n",
       "      <td>0.297491</td>\n",
       "      <td>0.114035</td>\n",
       "    </tr>\n",
       "    <tr>\n",
       "      <th>12</th>\n",
       "      <td>0 days 15:00:00</td>\n",
       "      <td>1050.519849</td>\n",
       "      <td>32.411724</td>\n",
       "      <td>30.043003</td>\n",
       "      <td>0.298751</td>\n",
       "      <td>0.303006</td>\n",
       "      <td>0.089912</td>\n",
       "    </tr>\n",
       "    <tr>\n",
       "      <th>13</th>\n",
       "      <td>0 days 16:00:00</td>\n",
       "      <td>1067.104592</td>\n",
       "      <td>32.666567</td>\n",
       "      <td>30.355580</td>\n",
       "      <td>0.301482</td>\n",
       "      <td>0.303716</td>\n",
       "      <td>0.100877</td>\n",
       "    </tr>\n",
       "    <tr>\n",
       "      <th>14</th>\n",
       "      <td>0 days 17:00:00</td>\n",
       "      <td>1086.575925</td>\n",
       "      <td>32.963251</td>\n",
       "      <td>30.711711</td>\n",
       "      <td>0.304574</td>\n",
       "      <td>0.309478</td>\n",
       "      <td>0.083333</td>\n",
       "    </tr>\n",
       "    <tr>\n",
       "      <th>15</th>\n",
       "      <td>0 days 18:00:00</td>\n",
       "      <td>1113.732398</td>\n",
       "      <td>33.372629</td>\n",
       "      <td>31.201478</td>\n",
       "      <td>0.308608</td>\n",
       "      <td>0.314068</td>\n",
       "      <td>0.037281</td>\n",
       "    </tr>\n",
       "    <tr>\n",
       "      <th>16</th>\n",
       "      <td>0 days 19:00:00</td>\n",
       "      <td>1143.602398</td>\n",
       "      <td>33.817191</td>\n",
       "      <td>31.734976</td>\n",
       "      <td>0.312854</td>\n",
       "      <td>0.308096</td>\n",
       "      <td>0.006579</td>\n",
       "    </tr>\n",
       "    <tr>\n",
       "      <th>17</th>\n",
       "      <td>0 days 20:00:00</td>\n",
       "      <td>1175.005933</td>\n",
       "      <td>34.278360</td>\n",
       "      <td>32.259059</td>\n",
       "      <td>0.316774</td>\n",
       "      <td>0.312858</td>\n",
       "      <td>0.000000</td>\n",
       "    </tr>\n",
       "    <tr>\n",
       "      <th>18</th>\n",
       "      <td>0 days 21:00:00</td>\n",
       "      <td>1194.015513</td>\n",
       "      <td>34.554530</td>\n",
       "      <td>32.610797</td>\n",
       "      <td>0.319503</td>\n",
       "      <td>0.323693</td>\n",
       "      <td>0.000000</td>\n",
       "    </tr>\n",
       "    <tr>\n",
       "      <th>19</th>\n",
       "      <td>0 days 22:00:00</td>\n",
       "      <td>1206.664482</td>\n",
       "      <td>34.737076</td>\n",
       "      <td>32.842707</td>\n",
       "      <td>0.321320</td>\n",
       "      <td>0.327205</td>\n",
       "      <td>0.000000</td>\n",
       "    </tr>\n",
       "    <tr>\n",
       "      <th>20</th>\n",
       "      <td>0 days 23:00:00</td>\n",
       "      <td>1221.905566</td>\n",
       "      <td>34.955766</td>\n",
       "      <td>33.059432</td>\n",
       "      <td>0.322843</td>\n",
       "      <td>0.335789</td>\n",
       "      <td>0.000000</td>\n",
       "    </tr>\n",
       "    <tr>\n",
       "      <th>21</th>\n",
       "      <td>1 days 00:00:00</td>\n",
       "      <td>1246.095831</td>\n",
       "      <td>35.300083</td>\n",
       "      <td>33.398032</td>\n",
       "      <td>0.325140</td>\n",
       "      <td>0.329583</td>\n",
       "      <td>0.000000</td>\n",
       "    </tr>\n",
       "  </tbody>\n",
       "</table>\n",
       "</div>"
      ],
      "text/plain": [
       "           horizon          mse       rmse        mae      mape     mdape  \\\n",
       "0  0 days 03:00:00   684.341813  26.159928  23.465805  0.240814  0.254840   \n",
       "1  0 days 04:00:00   715.532967  26.749448  24.322951  0.249774  0.256815   \n",
       "2  0 days 05:00:00   748.270223  27.354528  25.165113  0.258503  0.262801   \n",
       "3  0 days 06:00:00   782.743082  27.977546  26.016134  0.267154  0.277993   \n",
       "4  0 days 07:00:00   826.752426  28.753303  26.964299  0.275822  0.284582   \n",
       "5  0 days 08:00:00   902.109496  30.035138  28.109236  0.284254  0.288819   \n",
       "6  0 days 09:00:00   967.539172  31.105292  29.000365  0.290316  0.292551   \n",
       "7  0 days 10:00:00  1001.311838  31.643512  29.467119  0.293693  0.292551   \n",
       "8  0 days 11:00:00  1011.556936  31.804983  29.586501  0.294779  0.297223   \n",
       "9  0 days 12:00:00  1019.734962  31.933289  29.633739  0.295257  0.297440   \n",
       "10 0 days 13:00:00  1028.525648  32.070635  29.702845  0.295852  0.302674   \n",
       "11 0 days 14:00:00  1038.591728  32.227189  29.825584  0.296849  0.297491   \n",
       "12 0 days 15:00:00  1050.519849  32.411724  30.043003  0.298751  0.303006   \n",
       "13 0 days 16:00:00  1067.104592  32.666567  30.355580  0.301482  0.303716   \n",
       "14 0 days 17:00:00  1086.575925  32.963251  30.711711  0.304574  0.309478   \n",
       "15 0 days 18:00:00  1113.732398  33.372629  31.201478  0.308608  0.314068   \n",
       "16 0 days 19:00:00  1143.602398  33.817191  31.734976  0.312854  0.308096   \n",
       "17 0 days 20:00:00  1175.005933  34.278360  32.259059  0.316774  0.312858   \n",
       "18 0 days 21:00:00  1194.015513  34.554530  32.610797  0.319503  0.323693   \n",
       "19 0 days 22:00:00  1206.664482  34.737076  32.842707  0.321320  0.327205   \n",
       "20 0 days 23:00:00  1221.905566  34.955766  33.059432  0.322843  0.335789   \n",
       "21 1 days 00:00:00  1246.095831  35.300083  33.398032  0.325140  0.329583   \n",
       "\n",
       "    coverage  \n",
       "0   0.405702  \n",
       "1   0.346491  \n",
       "2   0.287281  \n",
       "3   0.239035  \n",
       "4   0.197368  \n",
       "5   0.173246  \n",
       "6   0.149123  \n",
       "7   0.131579  \n",
       "8   0.125000  \n",
       "9   0.142544  \n",
       "10  0.142544  \n",
       "11  0.114035  \n",
       "12  0.089912  \n",
       "13  0.100877  \n",
       "14  0.083333  \n",
       "15  0.037281  \n",
       "16  0.006579  \n",
       "17  0.000000  \n",
       "18  0.000000  \n",
       "19  0.000000  \n",
       "20  0.000000  \n",
       "21  0.000000  "
      ]
     },
     "execution_count": 114,
     "metadata": {},
     "output_type": "execute_result"
    }
   ],
   "source": [
    "df_p_d1 = performance_metrics(df_cv_d1)\n",
    "df_p_d1"
   ]
  },
  {
   "cell_type": "markdown",
   "id": "423969a7",
   "metadata": {},
   "source": [
    "## Testing 1w prediction"
   ]
  },
  {
   "cell_type": "code",
   "execution_count": null,
   "id": "ccb24f3d",
   "metadata": {},
   "outputs": [],
   "source": [
    "#not tuned yet\n",
    "mw1 = Prophet(changepoint_prior_scale = 0.5, seasonality_prior_scale = 5.0, yearly_seasonality = True)\n",
    "mw1.add_country_holidays(country_name='Germany')\n",
    "mw1.fit(data_spot[39000:])"
   ]
  },
  {
   "cell_type": "code",
   "execution_count": 116,
   "id": "6a6669f1",
   "metadata": {},
   "outputs": [
    {
     "name": "stderr",
     "output_type": "stream",
     "text": [
      "INFO:fbprophet:Making 48 forecasts with cutoffs between 2021-08-03 00:00:00 and 2021-08-04 23:00:00\n"
     ]
    },
    {
     "data": {
      "application/vnd.jupyter.widget-view+json": {
       "model_id": "dfa17c736e6d4aedae1a2a94186ff94e",
       "version_major": 2,
       "version_minor": 0
      },
      "text/plain": [
       "  0%|          | 0/48 [00:00<?, ?it/s]"
      ]
     },
     "metadata": {},
     "output_type": "display_data"
    }
   ],
   "source": [
    "df_cv_w1 = cross_validation(md1, initial='416 days', period='1 hours', horizon = '7 days')"
   ]
  },
  {
   "cell_type": "code",
   "execution_count": 125,
   "id": "c1d95a90",
   "metadata": {},
   "outputs": [
    {
     "data": {
      "image/png": "[encoded data removed]",
      "text/plain": [
       "<Figure size 720x432 with 1 Axes>"
      ]
     },
     "metadata": {},
     "output_type": "display_data"
    }
   ],
   "source": [
    "df_p_w1 = performance_metrics(df_cv_w1)\n",
    "fig = plot_cross_validation_metric(df_cv_w1, metric='rmse')"
   ]
  },
  {
   "cell_type": "markdown",
   "id": "5ce1438d",
   "metadata": {},
   "source": [
    "# Future Prediction"
   ]
  },
  {
   "cell_type": "markdown",
   "id": "56e8f849",
   "metadata": {},
   "source": [
    "## 1 hour"
   ]
  },
  {
   "cell_type": "code",
   "execution_count": 124,
   "id": "9e8cb9e7",
   "metadata": {},
   "outputs": [
    {
     "name": "stdout",
     "output_type": "stream",
     "text": [
      "          ds\n",
      "0 2021-08-12\n"
     ]
    },
    {
     "data": {
      "text/html": [
       "<div>\n",
       "<style scoped>\n",
       "    .dataframe tbody tr th:only-of-type {\n",
       "        vertical-align: middle;\n",
       "    }\n",
       "\n",
       "    .dataframe tbody tr th {\n",
       "        vertical-align: top;\n",
       "    }\n",
       "\n",
       "    .dataframe thead th {\n",
       "        text-align: right;\n",
       "    }\n",
       "</style>\n",
       "<table border=\"1\" class=\"dataframe\">\n",
       "  <thead>\n",
       "    <tr style=\"text-align: right;\">\n",
       "      <th></th>\n",
       "      <th>ds</th>\n",
       "      <th>trend</th>\n",
       "      <th>yhat_lower</th>\n",
       "      <th>yhat_upper</th>\n",
       "      <th>trend_lower</th>\n",
       "      <th>trend_upper</th>\n",
       "      <th>Christi Himmelfahrt</th>\n",
       "      <th>Christi Himmelfahrt_lower</th>\n",
       "      <th>Christi Himmelfahrt_upper</th>\n",
       "      <th>Erster Mai</th>\n",
       "      <th>...</th>\n",
       "      <th>weekly</th>\n",
       "      <th>weekly_lower</th>\n",
       "      <th>weekly_upper</th>\n",
       "      <th>yearly</th>\n",
       "      <th>yearly_lower</th>\n",
       "      <th>yearly_upper</th>\n",
       "      <th>multiplicative_terms</th>\n",
       "      <th>multiplicative_terms_lower</th>\n",
       "      <th>multiplicative_terms_upper</th>\n",
       "      <th>yhat</th>\n",
       "    </tr>\n",
       "  </thead>\n",
       "  <tbody>\n",
       "    <tr>\n",
       "      <th>0</th>\n",
       "      <td>2021-08-12</td>\n",
       "      <td>76.455298</td>\n",
       "      <td>55.911006</td>\n",
       "      <td>92.8355</td>\n",
       "      <td>76.455298</td>\n",
       "      <td>76.455298</td>\n",
       "      <td>0.0</td>\n",
       "      <td>0.0</td>\n",
       "      <td>0.0</td>\n",
       "      <td>0.0</td>\n",
       "      <td>...</td>\n",
       "      <td>5.092914</td>\n",
       "      <td>5.092914</td>\n",
       "      <td>5.092914</td>\n",
       "      <td>-3.058633</td>\n",
       "      <td>-3.058633</td>\n",
       "      <td>-3.058633</td>\n",
       "      <td>0.0</td>\n",
       "      <td>0.0</td>\n",
       "      <td>0.0</td>\n",
       "      <td>74.174845</td>\n",
       "    </tr>\n",
       "  </tbody>\n",
       "</table>\n",
       "<p>1 rows × 52 columns</p>\n",
       "</div>"
      ],
      "text/plain": [
       "          ds      trend  yhat_lower  yhat_upper  trend_lower  trend_upper  \\\n",
       "0 2021-08-12  76.455298   55.911006     92.8355    76.455298    76.455298   \n",
       "\n",
       "   Christi Himmelfahrt  Christi Himmelfahrt_lower  Christi Himmelfahrt_upper  \\\n",
       "0                  0.0                        0.0                        0.0   \n",
       "\n",
       "   Erster Mai  ...    weekly  weekly_lower  weekly_upper    yearly  \\\n",
       "0         0.0  ...  5.092914      5.092914      5.092914 -3.058633   \n",
       "\n",
       "   yearly_lower  yearly_upper  multiplicative_terms  \\\n",
       "0     -3.058633     -3.058633                   0.0   \n",
       "\n",
       "   multiplicative_terms_lower  multiplicative_terms_upper       yhat  \n",
       "0                         0.0                         0.0  74.174845  \n",
       "\n",
       "[1 rows x 52 columns]"
      ]
     },
     "execution_count": 124,
     "metadata": {},
     "output_type": "execute_result"
    }
   ],
   "source": [
    "#create data point we want to predict\n",
    "future_1h = mh1.make_future_dataframe(periods=1, freq='1h', include_history = False)\n",
    "print(future_1h)\n",
    "y_1h = mh1.predict(future_1h)\n",
    "y_1h"
   ]
  },
  {
   "cell_type": "markdown",
   "id": "b7b241d0",
   "metadata": {},
   "source": [
    "## 1 day"
   ]
  },
  {
   "cell_type": "code",
   "execution_count": 118,
   "id": "cd31d48d",
   "metadata": {},
   "outputs": [
    {
     "name": "stdout",
     "output_type": "stream",
     "text": [
      "                   ds\n",
      "0 2021-08-12 23:00:00\n"
     ]
    }
   ],
   "source": [
    "#create data point we want to predict\n",
    "future_1d = md1.make_future_dataframe(periods=1, freq='24h', include_history = False)\n",
    "print(future_1d)\n",
    "y_1d = md1.predict(future_1d)"
   ]
  },
  {
   "cell_type": "markdown",
   "id": "b125e203",
   "metadata": {},
   "source": [
    "## 1 week"
   ]
  },
  {
   "cell_type": "code",
   "execution_count": 150,
   "id": "345f98c4",
   "metadata": {},
   "outputs": [],
   "source": [
    "# change to md1 to mw1, after tuning this model "
   ]
  },
  {
   "cell_type": "code",
   "execution_count": 121,
   "id": "04b77e45",
   "metadata": {},
   "outputs": [
    {
     "name": "stdout",
     "output_type": "stream",
     "text": [
      "                   ds\n",
      "0 2021-08-18 23:00:00\n"
     ]
    }
   ],
   "source": [
    "#create data point we want to predict\n",
    "future_1w = md1.make_future_dataframe(periods=1, freq='168h', include_history = False)\n",
    "print(future_1w)\n",
    "y_1w = md1.predict(future_1w)"
   ]
  },
  {
   "cell_type": "code",
   "execution_count": null,
   "id": "a8c42ce0",
   "metadata": {},
   "outputs": [],
   "source": []
  },
  {
   "cell_type": "markdown",
   "id": "0ca92548",
   "metadata": {},
   "source": [
    "# Saving and loading the model "
   ]
  },
  {
   "cell_type": "code",
   "execution_count": null,
   "id": "170f3845",
   "metadata": {},
   "outputs": [],
   "source": [
    "# example code for saving and loading the models "
   ]
  },
  {
   "cell_type": "code",
   "execution_count": null,
   "id": "cd065195",
   "metadata": {},
   "outputs": [],
   "source": [
    "with open('serialized_model.json', 'w') as fout:\n",
    "    json.dump(model_to_json(m), fout)  # Save model\n",
    "\n",
    "with open('serialized_model.json', 'r') as fin:\n",
    "    m = model_from_json(json.load(fin))  # Load model"
   ]
  }
 ],
 "metadata": {
  "kernelspec": {
   "display_name": "Python 3",
   "language": "python",
   "name": "python3"
  },
  "language_info": {
   "codemirror_mode": {
    "name": "ipython",
    "version": 3
   },
   "file_extension": ".py",
   "mimetype": "text/x-python",
   "name": "python",
   "nbconvert_exporter": "python",
   "pygments_lexer": "ipython3",
   "version": "3.8.10"
  }
 },
 "nbformat": 4,
 "nbformat_minor": 5
}
